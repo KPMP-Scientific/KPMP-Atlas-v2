{
 "cells": [
  {
   "cell_type": "code",
   "execution_count": null,
   "id": "e306406f-beaf-4226-8728-837a49a26bc2",
   "metadata": {},
   "outputs": [],
   "source": [
    "import numpy as np\n",
    "import doubletdetection\n",
    "import scanpy as sc\n",
    "import matplotlib.pyplot as plt\n",
    "import scipy.io\n",
    "import tarfile\n",
    "import time\n",
    "import anndata as ad\n",
    "\n",
    "sc.settings.n_jobs=8\n",
    "sc.set_figure_params()\n",
    "%matplotlib inline"
   ]
  },
  {
   "cell_type": "code",
   "execution_count": null,
   "id": "d5d05df5-2e2b-43ef-b2e9-4794b4fbee70",
   "metadata": {},
   "outputs": [],
   "source": [
    "input_dir = '/home/blake/data/pod/blake_LTS/Atlas_V2/Raw_Counts'\n",
    "output_dir = '/home/blake/data/pod/blake_LTS/Atlas_V2/DoubletDetection'\n",
    "sc.settings.figdir = output_dir"
   ]
  },
  {
   "cell_type": "code",
   "execution_count": null,
   "id": "93cbc2fa-07ad-49ba-8ee0-94330a0cd634",
   "metadata": {},
   "outputs": [],
   "source": [
    "def doubletdetect(exps):\n",
    "  for x in exps:\n",
    "    adata = scipy.io.mmread(input_dir + '/' + x + '_10X-Dual_UMI_counts_EmptyBC_Filter.mtx').T.tocsc()\n",
    "    clf = doubletdetection.BoostClassifier(n_iters=50, clustering_algorithm=\"phenograph\", verbose=False, standard_scaling=False)\n",
    "    doublets = clf.fit(adata).predict(p_thresh=1e-7, voter_thresh=0.8)\n",
    "    doublet_score = clf.doublet_score()\n",
    "    adata = ad.AnnData(adata, dtype=adata.dtype)\n",
    "    adata.obs[\"doublet\"] = doublets\n",
    "    adata.obs[\"doublet_score\"] = doublet_score\n",
    "    #visualize\n",
    "    f1 = doubletdetection.plot.convergence(clf, save=(output_dir + '/' + x + '_10X-Dual_convergence_test.pdf'), show=False, p_thresh=1e-7, voter_thresh=0.8)\n",
    "    f2 = doubletdetection.plot.threshold(clf, save=(output_dir + '/' + x + '_10X-Dual_threshold_test.pdf'), show=False, p_step=6)\n",
    "    #Visualize doublets on umap\n",
    "    sc.pp.normalize_total(adata)\n",
    "    sc.pp.log1p(adata)\n",
    "    sc.pp.highly_variable_genes(adata)\n",
    "    sc.tl.pca(adata)\n",
    "    sc.pp.neighbors(adata)\n",
    "    sc.tl.umap(adata)\n",
    "    sc.pl.umap(adata, color=[\"doublet\", \"doublet_score\"], show = False, save=('/' + x + '_10X-Dual_UMAP.pdf'))\n",
    "    #write out doublet status\n",
    "    with open((output_dir + '/' + x + '_10X-Dual_DoubletDetection_doublets.txt'), 'w') as file_handler:\n",
    "        for item in doublets:\n",
    "            file_handler.write(\"{}\\n\".format(item))"
   ]
  },
  {
   "cell_type": "code",
   "execution_count": null,
   "id": "ac82e38f-da70-4e52-80c1-4bf2df871dd3",
   "metadata": {},
   "outputs": [],
   "source": [
    "exps = [\"KPMP_20210421E\",\"KPMP_20210421F\",\"KPMP_20210421G\",\"KPMP_20210421H\",\"KPMP_20210804A\",\"KPMP_20210804C\",\"KPMP_20210901A\",\"KPMP_20210901B\",\n",
    "\"KPMP_20220427A\",\"KPMP_20220427B\",\"KPMP_20220602A\",\"KPMP_20220602B\",\"KPMP_20220602C\",\"KPMP_20220602D\",\"KPMP_20220606A\",\"KPMP_20220606B\",\n",
    "\"KPMP_20220606C\",\"HuBMAP_20220825A\",\"HuBMAP_20220825B\",\"HuBMAP_20220825C\",\"HuBMAP_20220825D\",\"HuBMAP_20220825E\",\"HuBMAP_20220825F\",\n",
    "\"KPMP_20220908A\",\"KPMP_20220908B\",\n",
    "       \"KPMP_20220908C\",\"KPMP_20220908D\",\"HsKidAt_20220914G\",\"HsKidAt_20221005G\",\"HuBMAP_20221020B\",\"HuBMAP_20221021A\",\"HuBMAP_20221021B\",\n",
    "\"HuBMAP_20221021C\",\"HsKidAt_20221116A\",\"HsKidAt_20221116B\",\"HsKidAt_20221116C\",\"HsKidAt_20221116D\",\"HsKidAt_20221116E\",\"HsKidAt_20221116F\",\n",
    "\"HsKidAt_20221116G\",\"HsKidAt_20221130A\",\"HsKidAt_20221130B\",\"HsKidAt_20221130C\",\"HsKidAt_20221130D\",\"HsKidAt_20221130E\",\"HsKidAt_20221130G\",\n",
    "\"HuBMAP_20221213A\",\"HuBMAP_20221213B\",\"HuBMAP_20221213C\",\"HsKidAt_20221215A\",\"HsKidAt_20221215B\",\"HuBMAP_20221215A\",\"HuBMAP_20221215B\",\n",
    "\"HuBMAP_20221215C\",\"HuBMAP_20221215D\",\n",
    "       ]"
   ]
  },
  {
   "cell_type": "code",
   "execution_count": null,
   "id": "0174ce1c-1403-4dec-aa62-3b94f2963fca",
   "metadata": {},
   "outputs": [],
   "source": [
    "doubletdetect(exps)"
   ]
  },
  {
   "cell_type": "code",
   "execution_count": null,
   "id": "7a83ddb3-b713-443d-a178-d91bed4348ba",
   "metadata": {},
   "outputs": [],
   "source": []
  }
 ],
 "metadata": {
  "kernelspec": {
   "display_name": "py3-dd",
   "language": "python",
   "name": "py3-dd"
  },
  "language_info": {
   "codemirror_mode": {
    "name": "ipython",
    "version": 3
   },
   "file_extension": ".py",
   "mimetype": "text/x-python",
   "name": "python",
   "nbconvert_exporter": "python",
   "pygments_lexer": "ipython3",
   "version": "3.9.7"
  }
 },
 "nbformat": 4,
 "nbformat_minor": 5
}
