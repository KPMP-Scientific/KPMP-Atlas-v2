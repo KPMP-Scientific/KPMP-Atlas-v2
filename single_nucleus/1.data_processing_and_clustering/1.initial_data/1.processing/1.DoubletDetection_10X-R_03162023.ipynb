{
 "cells": [
  {
   "cell_type": "code",
   "execution_count": null,
   "id": "2487574a-43b6-4db3-91c8-9f1a1492bd7b",
   "metadata": {},
   "outputs": [],
   "source": [
    "import numpy as np\n",
    "import doubletdetection\n",
    "import scanpy as sc\n",
    "import matplotlib.pyplot as plt\n",
    "import scipy.io\n",
    "import tarfile\n",
    "import time\n",
    "import anndata as ad\n",
    "\n",
    "sc.settings.n_jobs=8\n",
    "sc.set_figure_params()\n",
    "%matplotlib inline"
   ]
  },
  {
   "cell_type": "code",
   "execution_count": null,
   "id": "a736ef15-9691-47e3-ad02-7e4870ffc580",
   "metadata": {},
   "outputs": [],
   "source": [
    "input_dir = '/home/blake/data/pod/blake_LTS/Atlas_V2/Raw_Counts'\n",
    "output_dir = '/home/blake/data/pod/blake_LTS/Atlas_V2/DoubletDetection'\n",
    "sc.settings.figdir = output_dir"
   ]
  },
  {
   "cell_type": "code",
   "execution_count": null,
   "id": "346fb266-0a80-42cb-a715-c7e014c4e199",
   "metadata": {},
   "outputs": [],
   "source": [
    "def doubletdetect(exps):\n",
    "  for x in exps:\n",
    "    adata = scipy.io.mmread(input_dir + '/' + x + '_10X-R_UMI_counts_EmptyBC_Filter.mtx').T.tocsc()\n",
    "    clf = doubletdetection.BoostClassifier(n_iters=50, clustering_algorithm=\"phenograph\", verbose=False, standard_scaling=False)\n",
    "    doublets = clf.fit(adata).predict(p_thresh=1e-7, voter_thresh=0.8)\n",
    "    doublet_score = clf.doublet_score()\n",
    "    adata = ad.AnnData(adata, dtype=adata.dtype)\n",
    "    adata.obs[\"doublet\"] = doublets\n",
    "    adata.obs[\"doublet_score\"] = doublet_score\n",
    "    #visualize\n",
    "    f1 = doubletdetection.plot.convergence(clf, save=(output_dir + '/' + x + '_10X-R_convergence_test.pdf'), show=False, p_thresh=1e-7, voter_thresh=0.8)\n",
    "    f2 = doubletdetection.plot.threshold(clf, save=(output_dir + '/' + x + '_10X-R_threshold_test.pdf'), show=False, p_step=6)\n",
    "    #Visualize doublets on umap\n",
    "    sc.pp.normalize_total(adata)\n",
    "    sc.pp.log1p(adata)\n",
    "    sc.pp.highly_variable_genes(adata)\n",
    "    sc.tl.pca(adata)\n",
    "    sc.pp.neighbors(adata)\n",
    "    sc.tl.umap(adata)\n",
    "    sc.pl.umap(adata, color=[\"doublet\", \"doublet_score\"], show = False, save=('/' + x + '_10X-R_UMAP.pdf'))\n",
    "    #write out doublet status\n",
    "    with open((output_dir + '/' + x + '_10X-R_DoubletDetection_doublets.txt'), 'w') as file_handler:\n",
    "        for item in doublets:\n",
    "            file_handler.write(\"{}\\n\".format(item))"
   ]
  },
  {
   "cell_type": "code",
   "execution_count": null,
   "id": "3acab23b-6740-4c95-a210-d552fedab41f",
   "metadata": {},
   "outputs": [],
   "source": [
    "exps = [\"KPMP_20191204A\",\"KPMP_20191204B\",\"KPMP_20191219A\",\"KPMP_20191219B\",\"KPMP_20191219C\",\"KPMP_20191219D\",\"KPMP_20200115A\",\"KPMP_20200115B\",\n",
    "\"KPMP_20200212A\",\"KPMP_20200212B\",\"KPMP_20200212C\",\"KPMP_20200212D\",\"KPMP_20200212E\",\"KPMP_20200212F\",\"KPMP_20190829C\",\"KPMP_20190829D\",\n",
    "\"KPMP_20190829E\",\"BUKMAP_20190529L\",\"BUKMAP_20190822F\",\"BUKMAP_20190829B\",\"BUKMAP_20191010\",\"BUKMAP_20191104A\",\"BUKMAP_20191009\",\n",
    "\"BUKMAP_20200205A\",\"BUKMAP_20200205D\",\n",
    "       \"BUKMAP_20200205F\",\"BUKMAP_20200304B\",\"BUKMAP_20200304F\",\"KPMP_20190607I\",\"KPMP_20190607J\",\"KPMP_20190607K\",\"KPMP_20201202B\",\n",
    "\"KPMP_20201202C\",\"KPMP_20201202D\",\"KPMP_20201209A\",\"KPMP_20201209B\",\"KPMP_20201209C\",\"KPMP_20201209D\",\"KPMP_20201209E\",\"KPMP_20201209F\",\n",
    "\"KPMP_20201218A\",\"KPMP_20201218B\",\"KPMP_20201218C\",\"KPMP_20201218D\",\"KPMP_20201218E\",\"KPMP_20201218F\",\"KPMP_20210421A\",\"KPMP_20210421B\",\n",
    "\"KPMP_20210421C\",\"BUKMAP_20201009B\",\n",
    "       \"BUKMAP_20201009C\",\"BUKMAP_20201009D\",\"BUKMAP_20201009E\",\"BUKMAP_20201009F\",\"BUKMAP_20201009G\",\"KPMP_20210811C\",\"KPMP_20210811D\",\n",
    "\"KPMP_20210825A\",\"KPMP_20210825B\",\"KPMP_20210825D\",\"KPMP_20210909A\",\"KPMP_20210909B\",\"KPMP_20210909C\",\"KPMP_20210909D\",\"KPMP_20210915A\",\n",
    "\"KPMP_20210915B\",\"KPMP_20210915C\",\"KPMP_20211013A\",\"KPMP_20211013B\",\"KPMP_20211013C\",\"KPMP_20211029A\",\"BUKMAP_20210929C\",\"BUKMAP_20210929E\",\n",
    "\"BUKMAP_20211029A\",\"BUKMAP_20211029B\",\n",
    "       \"KPMP_20211208A\",\"KPMP_20211208D\",\"KPMP_20211208E\",\"KPMP_20220113A\",\"KPMP_20220113D\",\"KPMP_20220113E\",\"BUKMAP_20220113A\",\"BUKMAP_20220113B\",\n",
    "\"KPMP_20220217A\",\"KPMP_20220217B\",\"KPMP_20220217C\",\"KPMP_20220217D\",\"KPMP_20220217E\",\"KPMP_20220217G\",\"BUKMAP_20220217A\",\"BUKMAP_20220127A\",\n",
    "\"BUKMAP_20220127B\",\"BUKMAP_20220127C\",\"BUKMAP_20220127D\",\"BUKMAP_20220127E\",\"BUKMAP_20220127F\",\"BUKMAP_20220127G\",\"BUKMAP_20220127H\",\n",
    "\"KTRC_20220902D\"]"
   ]
  },
  {
   "cell_type": "code",
   "execution_count": null,
   "id": "021736cf-4c00-4492-b259-0c1d4892e0c9",
   "metadata": {},
   "outputs": [],
   "source": [
    "doubletdetect(exps)"
   ]
  },
  {
   "cell_type": "code",
   "execution_count": null,
   "id": "e40f05f0-497c-463a-9f1c-89be6a9e4d74",
   "metadata": {},
   "outputs": [],
   "source": []
  }
 ],
 "metadata": {
  "kernelspec": {
   "display_name": "py3-dd",
   "language": "python",
   "name": "py3-dd"
  },
  "language_info": {
   "codemirror_mode": {
    "name": "ipython",
    "version": 3
   },
   "file_extension": ".py",
   "mimetype": "text/x-python",
   "name": "python",
   "nbconvert_exporter": "python",
   "pygments_lexer": "ipython3",
   "version": "3.9.7"
  }
 },
 "nbformat": 4,
 "nbformat_minor": 5
}
