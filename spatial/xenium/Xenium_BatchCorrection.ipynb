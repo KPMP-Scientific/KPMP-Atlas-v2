{
 "cells": [
  {
   "cell_type": "code",
   "execution_count": null,
   "id": "309913a5-05c5-4567-ad3d-b0e10342eeef",
   "metadata": {},
   "outputs": [],
   "source": [
    "import os\n",
    "import tempfile\n",
    "import pandas as pd\n",
    "import numpy as np\n",
    "import matplotlib.pyplot as plt\n",
    "import scanpy as sc\n",
    "import scvi\n",
    "import anndata"
   ]
  },
  {
   "cell_type": "code",
   "execution_count": null,
   "id": "af52ef8e-e6e3-4742-a82c-ef6c88255bf8",
   "metadata": {},
   "outputs": [],
   "source": [
    "save_dir = tempfile.TemporaryDirectory()\n",
    "scvi.settings.seed = 0\n",
    "print(\"Last run with scvi-tools version:\", scvi.__version__)"
   ]
  },
  {
   "cell_type": "code",
   "execution_count": null,
   "id": "4f64ad37-e1d9-4fad-9ec4-e097272d7045",
   "metadata": {},
   "outputs": [],
   "source": [
    "import os\n",
    "import scanpy as sc\n",
    "import pandas as pd\n",
    "\n",
    "def read_xenium(path, sample_name):\n",
    "    \"\"\"\n",
    "    Custom reader for Xenium data using only H5 and cell CSVs.\n",
    "\n",
    "    Parameters\n",
    "    ----------\n",
    "    path : str\n",
    "        Directory containing the Xenium files.\n",
    "    sample_name : str\n",
    "        Prefix for the files (e.g., 'KidneySample1').\n",
    "\n",
    "    Returns\n",
    "    -------\n",
    "    AnnData\n",
    "        AnnData object with spatial coordinates and metadata.\n",
    "    \"\"\"\n",
    "    # File paths\n",
    "    gene_counts_file = os.path.join(path, f\"{sample_name}_cell_feature_matrix.h5\")\n",
    "    cell_metadata_file = os.path.join(path, f\"{sample_name}_cells.csv\")\n",
    "\n",
    "    # Load gene counts and cell metadata\n",
    "    adata = sc.read_10x_h5(filename=gene_counts_file)\n",
    "    df = pd.read_csv(cell_metadata_file)\n",
    "    \n",
    "    # Align and attach metadata\n",
    "    df.set_index(adata.obs_names, inplace=True)\n",
    "    adata.obs = df.copy()\n",
    "\n",
    "    # Add spatial coordinates\n",
    "    adata.obsm[\"spatial\"] = adata.obs[[\"x_centroid\", \"y_centroid\"]].to_numpy()\n",
    "\n",
    "    # Add sample label\n",
    "    adata.obs[\"sample\"] = sample_name\n",
    "    #adata = adata[:,~adata.var_names.isin(genes_to_remove)].copy()\n",
    "    return adata\n"
   ]
  },
  {
   "cell_type": "code",
   "execution_count": null,
   "id": "048b77a3-8286-4c01-885f-7e4958ff1a7d",
   "metadata": {},
   "outputs": [],
   "source": [
    "base_dir = '/Volumes/Active/Xenium/Data/KID_final_Dataset/'\n",
    "sample_list = ['xen4_3781','xen6_3781','xen10_3723','xen10_3946','xen12_3990','xen17_3612','xen21_KPMP057']\n",
    "adata_list = []\n",
    "for sample in sample_list:\n",
    "    adata = read_xenium(base_dir, sample)\n",
    "    adata_list.append(adata)"
   ]
  },
  {
   "cell_type": "code",
   "execution_count": null,
   "id": "b2df5f91-52ff-4cc8-81ef-ae83516435af",
   "metadata": {},
   "outputs": [],
   "source": [
    "for adata in adata_list:\n",
    "    # raw to new layer named \"counts\"\n",
    "    prom_genes = ['GPX5', 'FKBP5', 'PIGR', 'IGFBP7','PSAP','VIM','GPX3']\n",
    "    genes_to_keep = [gene for gene in adata.var_names if gene not in prom_genes]\n",
    "    adata = adata[:, genes_to_keep].copy()\n",
    "    sc.pp.filter_cells(adata, min_counts=5) \n",
    "    sc.pp.filter_genes(adata, min_counts=1)\n",
    "    adata.layers[\"counts\"] = adata.X.copy()\n",
    "    #adata = adata[:, ~adata.var_names.isin(genes_to_remove)].copy()"
   ]
  },
  {
   "cell_type": "code",
   "execution_count": null,
   "id": "d4d8c467-7127-4f08-a640-7c59447ddbb0",
   "metadata": {},
   "outputs": [],
   "source": [
    "adata1 = adata_list[0]\n",
    "adata2 = adata_list[1]\n",
    "adata3 = adata_list[2]\n",
    "adata4 = adata_list[3]\n",
    "adata5 = adata_list[4]\n",
    "adata6 = adata_list[5]\n",
    "adata7 = adata_list[6] "
   ]
  },
  {
   "cell_type": "code",
   "execution_count": null,
   "id": "52507b24-d72f-45f4-9fc3-1e04af853f19",
   "metadata": {},
   "outputs": [],
   "source": []
  },
  {
   "cell_type": "code",
   "execution_count": null,
   "id": "eef521f7-9378-4b5b-a7a6-f0933ea293ec",
   "metadata": {},
   "outputs": [],
   "source": [
    "# add cell label information \n",
    "#sample_list = ['xen4_3781','xen5_3916', 'xen6_3781','xen7_3916','xen10_3723','xen10_3946','xen11_3712','xen11_3919','xen12_3990','xen12_KPMP038','xen13_3782','xen13_KPMP038','xen16_3609','xen16_3785','xen17_3612','xen17_3673,'xen21_3729','xen21_3811','xen21_KPMP057','xen22_KPMP102','xen22A_3809','xen22B_3809','xen23_3782','xen23_3990','xen23_KPMP038','xen24_3782','xen24_3990','xen24_KPMP038','xen25_4091','xen25_4126','xen25_KPMP101','xen26_4091','xen26_4132','xen26_KPMP101']\n",
    "\n",
    "adata_list = [adata1, adata2, adata3, adata4, adata5, adata6, adata7]\n",
    "csv_files = [\n",
    "   ## paths to the celltype dfs for each sample\n",
    "] \n",
    "\n",
    "for adata, csv_file in zip(adata_list, csv_files):\n",
    "    labels_df = pd.read_csv(csv_file)\n",
    "    labels_df[\"cell_id\"] = labels_df[\"cell_id\"].astype(str) \n",
    "    labels_df = labels_df.set_index(\"cell_id\")\n",
    "    adata.obs.index = adata.obs.index.astype(str)\n",
    "    adata.obs = adata.obs.join(labels_df,how=\"left\")\n"
   ]
  },
  {
   "cell_type": "code",
   "execution_count": null,
   "id": "50eb8d16-d739-4ff8-ab72-67ca12d7d566",
   "metadata": {},
   "outputs": [],
   "source": [
    "adata1 = adata_list[0]\n",
    "adata2 = adata_list[1]\n",
    "adata3 = adata_list[2]\n",
    "adata4 = adata_list[3]\n",
    "adata5 = adata_list[4]\n",
    "adata6 = adata_list[5]\n",
    "adata7 = adata_list[6] "
   ]
  },
  {
   "cell_type": "code",
   "execution_count": null,
   "id": "f0f63428-0450-4fcb-9d4e-8008a58cd703",
   "metadata": {},
   "outputs": [],
   "source": [
    "for adata in [adata1, adata2, adata3, adata4, adata5, adata6, adata7]:\n",
    "    adata.obs_names_make_unique()"
   ]
  },
  {
   "cell_type": "code",
   "execution_count": null,
   "id": "3f8e3b2c-738f-4744-a6cf-212e92405839",
   "metadata": {},
   "outputs": [],
   "source": [
    "#unique_keys = [\"sample1\", \"sample2\", \"sample3\", \"sample4\", \"sample5\", \"sample6\", \"sample7\",]\n",
    "\n",
    "#all_adata = anndata.concat(\n",
    "#    [adata1, adata2, adata3, adata4, adata5, adata6],\n",
    "#    keys=unique_keys,       # unique keys for each adata\n",
    "#    label=\"sample_id\",      # stores the key in obs as \"sample_id\"\n",
    "#   index_unique=\"-\")\n",
    "\n",
    "all_adata = anndata.concat([adata1, adata2, adata3, adata4, adata5, adata6,adata7,adata8,adata9,adata10,adata11,adata12])\n",
    "# Then map the unique keys to the desired sample names\n",
    "all_adata.obs[\"sample_id\"] = all_adata.obs[\"sample\"].replace({\n",
    "   \"xen4_3781\": \"xen4\",\n",
    "    \"xen6_3781\": \"xen6\",\n",
    "    \"xen10_3723\": \"xen10\",\n",
    "    \"xen10_3946\": \"xen10\",\n",
    "    \"xen12_3990\": \"xen12\",\n",
    "    \"xen17_3612\": \"xen17\", \n",
    "    \"xen21_KPMP_057\" : \"xen21\",\n",
    "    \n",
    "   \n",
    "})\n"
   ]
  },
  {
   "cell_type": "code",
   "execution_count": null,
   "id": "ab578e3d-8980-48b2-b5c3-7d234b002341",
   "metadata": {},
   "outputs": [],
   "source": [
    "all_adata.obs['v2.subclass.levelKIL']"
   ]
  },
  {
   "cell_type": "code",
   "execution_count": null,
   "id": "521ee2c0-6c4a-44db-971f-0fed0e0c4cf3",
   "metadata": {},
   "outputs": [],
   "source": [
    "all_adata.obsm[\"X_spatial\"] = all_adata.obsm[\"spatial\"]"
   ]
  },
  {
   "cell_type": "code",
   "execution_count": null,
   "id": "e5600641-c37c-4192-8cf1-6c5f7c85ed41",
   "metadata": {},
   "outputs": [],
   "source": [
    "all_adata"
   ]
  },
  {
   "cell_type": "code",
   "execution_count": null,
   "id": "31aa0027-e536-4755-939e-024539c2796c",
   "metadata": {},
   "outputs": [],
   "source": [
    "celltypes_to_remove = [\"low_quality\", \"unassigned\"]\n",
    "all_adata = all_adata[~all_adata.obs['v2.subclass.levelKIL'].isin(celltypes_to_remove)].copy()"
   ]
  },
  {
   "cell_type": "code",
   "execution_count": null,
   "id": "0509e4de-4a86-4ef9-8a53-de060659d0cb",
   "metadata": {},
   "outputs": [],
   "source": [
    "all_adata.obs['sample'].unique()"
   ]
  },
  {
   "cell_type": "code",
   "execution_count": null,
   "id": "ca0b3183-de04-4b1c-9254-b2fd8bbf2ca3",
   "metadata": {},
   "outputs": [],
   "source": [
    "all_adata"
   ]
  },
  {
   "cell_type": "code",
   "execution_count": null,
   "id": "d4fa9181-5970-4450-bd64-533ccaf36d09",
   "metadata": {},
   "outputs": [],
   "source": [
    "# replace \"/\" with \"_\" in the \"group\" column\n",
    "all_adata.obs[\"v2.subclass.levelKIL\"] = all_adata.obs[\"v2.subclass.levelKIL\"].str.replace(\"/\", \"_\")"
   ]
  },
  {
   "cell_type": "code",
   "execution_count": null,
   "id": "287c8cee-2297-44e0-aa49-53b7a60c0401",
   "metadata": {},
   "outputs": [],
   "source": [
    "all_adata.obs['v2.subclass.levelKIL'].unique()"
   ]
  },
  {
   "cell_type": "code",
   "execution_count": null,
   "id": "b43a34de-f2c7-4964-8b12-c221b81a0fc2",
   "metadata": {},
   "outputs": [],
   "source": [
    "all_adata.obs_names_make_unique()"
   ]
  },
  {
   "cell_type": "code",
   "execution_count": null,
   "id": "0a71d620-183d-4af0-b78c-1842d1551a7d",
   "metadata": {},
   "outputs": [],
   "source": [
    "# 1) Subset out any cells where the label is NaN\n",
    "all_adata = all_adata[all_adata.obs['v2.subclass.levelKIL'].notna()].copy()\n",
    "\n",
    "# 2) Convert that column to pandas Categorical (dropping any unused categories)\n",
    "all_adata.obs['v2.subclass.levelKIL'] = (\n",
    "    all_adata.obs['v2.subclass.levelKIL']\n",
    "    .astype('category')\n",
    "    .cat.remove_unused_categories()\n",
    ")\n"
   ]
  },
  {
   "cell_type": "code",
   "execution_count": null,
   "id": "118fb5c7-9f88-4a95-8dac-b6672384c96e",
   "metadata": {},
   "outputs": [],
   "source": [
    "all_adata.obs['sample'].value_counts()"
   ]
  },
  {
   "cell_type": "code",
   "execution_count": null,
   "id": "254d62df-4cbf-4de4-aed7-b4f796aed127",
   "metadata": {},
   "outputs": [],
   "source": []
  },
  {
   "cell_type": "code",
   "execution_count": null,
   "id": "eb48371c-784c-4b9e-bcc0-e1e547b1234e",
   "metadata": {
    "scrolled": true
   },
   "outputs": [],
   "source": [
    "scvi.external.RESOLVI.setup_anndata(\n",
    "    all_adata,\n",
    "    batch_key=\"sample_id\",\n",
    "    labels_key=\"v2.subclass.levelKIL\",\n",
    "    layer=\"counts\"       \n",
    ")"
   ]
  },
  {
   "cell_type": "code",
   "execution_count": null,
   "id": "37030baf-7521-45b2-bb1f-50fb419eb6bf",
   "metadata": {},
   "outputs": [],
   "source": [
    "all_adata"
   ]
  },
  {
   "cell_type": "code",
   "execution_count": null,
   "id": "465fa763-ace5-4e29-8e21-e8e91540e466",
   "metadata": {},
   "outputs": [],
   "source": [
    "model = scvi.external.RESOLVI(all_adata, semisupervised=True)"
   ]
  },
  {
   "cell_type": "code",
   "execution_count": null,
   "id": "f9a24fc3-6e13-4445-a987-7a3190c16e39",
   "metadata": {},
   "outputs": [],
   "source": [
    "model.train(max_epochs=50)"
   ]
  },
  {
   "cell_type": "code",
   "execution_count": null,
   "id": "8d594b0b-06b1-4326-8628-09b374ae8c46",
   "metadata": {},
   "outputs": [],
   "source": [
    "all_adata.obsm[\"X_resolVI\"] = model.get_latent_representation(all_adata)"
   ]
  },
  {
   "cell_type": "code",
   "execution_count": null,
   "id": "221abbe1-e62a-4118-9fb4-657454058621",
   "metadata": {},
   "outputs": [],
   "source": [
    "sc.pp.neighbors(all_adata, use_rep=\"X_resolVI\")\n",
    "sc.tl.umap(all_adata)\n",
    "sc.pl.umap(all_adata, color=\"sample_id\")  "
   ]
  },
  {
   "cell_type": "code",
   "execution_count": null,
   "id": "2cb50cce-3043-43cf-aff1-4de1e47ed1c4",
   "metadata": {},
   "outputs": [],
   "source": [
    "all_adata.obs[\"sample\"].value_counts()"
   ]
  },
  {
   "cell_type": "code",
   "execution_count": null,
   "id": "ff7eb963-b470-4fb2-9fb6-1577b769446f",
   "metadata": {},
   "outputs": [],
   "source": [
    "# sample corrected expression counts\n",
    "samples_corr = model.sample_posterior(\n",
    "    model=model.module.model_corrected,\n",
    "    return_sites=[\"px_rate\"],\n",
    "    summary_fun={\"post_sample_q50\": np.median},\n",
    "    num_samples=3,\n",
    "    summary_frequency=30,\n",
    ")\n",
    "\n",
    "samples_corr = pd.DataFrame(samples_corr).T\n",
    "\n",
    "# save corrected counts in new layer:\n",
    "all_adata.layers[\"generated_expression\"] = samples_corr.loc[\"post_sample_q50\", \"px_rate\"]"
   ]
  },
  {
   "cell_type": "code",
   "execution_count": null,
   "id": "622ed3d5-d04a-4e55-96d1-16f5736998d8",
   "metadata": {},
   "outputs": [],
   "source": [
    "marker_genes = [\"LRP2\", \"UMOD\", \"SLC12A1\"]\n",
    "sc.pl.umap(all_adata, color=marker_genes, layer=\"generated_expression\", vmax=\"p98\", title=\"Corrected Expression\")"
   ]
  },
  {
   "cell_type": "code",
   "execution_count": null,
   "id": "d250c285-2da6-479b-8f50-a2e8b72938f6",
   "metadata": {},
   "outputs": [],
   "source": [
    "all_adata.obs[\"predicted_labels\"] = model.predict(all_adata, num_samples=3, soft=False)"
   ]
  },
  {
   "cell_type": "code",
   "execution_count": null,
   "id": "c42ed977-1652-4d31-a3e2-45b6c584dc8f",
   "metadata": {},
   "outputs": [],
   "source": [
    "sc.pl.umap(all_adata, color=[\"predicted_labels\"])"
   ]
  },
  {
   "cell_type": "code",
   "execution_count": null,
   "id": "41f55969-1266-4b2d-a699-e8a739bf21f2",
   "metadata": {},
   "outputs": [],
   "source": []
  },
  {
   "cell_type": "code",
   "execution_count": null,
   "id": "6f358235-765c-4b5e-ae40-bd57cfbec794",
   "metadata": {},
   "outputs": [],
   "source": [
    "all_adata.write_h5ad(\"/Volumes/Active/Xenium/Banksy_Atlas/20250602_Atlasresolvi_seven_samples_obj.h5ad\")"
   ]
  }
 ],
 "metadata": {
  "kernelspec": {
   "display_name": "Python 3 (ipykernel)",
   "language": "python",
   "name": "python3"
  },
  "language_info": {
   "codemirror_mode": {
    "name": "ipython",
    "version": 3
   },
   "file_extension": ".py",
   "mimetype": "text/x-python",
   "name": "python",
   "nbconvert_exporter": "python",
   "pygments_lexer": "ipython3",
   "version": "3.10.13"
  }
 },
 "nbformat": 4,
 "nbformat_minor": 5
}
